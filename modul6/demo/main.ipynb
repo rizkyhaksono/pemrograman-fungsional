{
 "cells": [
  {
   "cell_type": "code",
   "execution_count": 34,
   "metadata": {},
   "outputs": [],
   "source": [
    "__author__ = \"rizkyhaksono\"\n",
    "__copyright__ = \"Copyright 2023, Malang\"\n",
    "\n",
    "from PIL import Image, ImageOps, ImageDraw, ImageFont, ImageEnhance, ImageFilter\n",
    "import os\n",
    "\n",
    "current_dir = os.getcwd()\n",
    "\n",
    "img_path_bg = os.path.join(current_dir, \"img\", \"bg.jpg\")\n",
    "img_path_umm = os.path.join(current_dir, \"img\", \"umm.jpg\")\n",
    "font_path = os.path.join(current_dir, \"font\", \"arial_bold.ttf\")\n",
    "\n",
    "img_bg = Image.open(img_path_bg)\n",
    "img_umm = Image.open(img_path_umm)\n",
    "\n",
    "bg_copy = ImageOps.grayscale(img_bg.copy())\n",
    "rotated = bg_copy.rotate(30)\n",
    "final_bg = rotated.filter(ImageFilter.BLUR)\n",
    "\n",
    "enhancer = ImageEnhance.Brightness(img_umm.copy())\n",
    "brightened = enhancer.enhance(1.25)\n",
    "\n",
    "enhancer = ImageEnhance.Contrast(brightened)\n",
    "contrasted = enhancer.enhance(1.25)\n",
    "final = contrasted.resize((600, 600))\n",
    "\n",
    "custom_font = ImageFont.truetype(font_path, 24)\n",
    "\n",
    "final_bg.paste(final, (500, 200))\n",
    "\n",
    "padding = 100\n",
    "draw = ImageDraw.Draw(final_bg)\n",
    "text = \"INFORMATIKA JOSSS!\"\n",
    "\n",
    "text_bbox = draw.textbbox((0, 0, 0, 0), text, font=custom_font)\n",
    "text_width, text_height = text_bbox[2], text_bbox[3]\n",
    "\n",
    "text_position_center = ((final_bg.width - text_width) // 2, (final_bg.height - text_height) // 2)\n",
    "# text_position_right = (final_bg.width - text_width - padding, (final_bg.height - text_height) // 2)\n",
    "# text_position_left = (padding, (final_bg.height - text_height) // 2)\n",
    "\n",
    "draw.text(text_position_right, text, font=custom_font, fill=\"black\")\n",
    "\n",
    "final_bg.show()\n",
    "final_bg.save(os.path.join(current_dir, \"img/output\", \"tugas_praktikum_enam.jpg\"))\n"
   ]
  }
 ],
 "metadata": {
  "kernelspec": {
   "display_name": "Python 3",
   "language": "python",
   "name": "python3"
  },
  "language_info": {
   "codemirror_mode": {
    "name": "ipython",
    "version": 3
   },
   "file_extension": ".py",
   "mimetype": "text/x-python",
   "name": "python",
   "nbconvert_exporter": "python",
   "pygments_lexer": "ipython3",
   "version": "3.9.5"
  }
 },
 "nbformat": 4,
 "nbformat_minor": 2
}
