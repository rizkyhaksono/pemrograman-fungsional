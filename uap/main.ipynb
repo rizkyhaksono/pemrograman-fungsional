{
 "cells": [
  {
   "cell_type": "code",
   "execution_count": null,
   "metadata": {},
   "outputs": [],
   "source": [
    "data_tuple = ['Pensil', 1500, 'Buku', 5000, 'Penggaris', 2000]\n",
    "\n",
    "def pisah_data(data):\n",
    "  nama_barang = data[::2]\n",
    "  harga_barang = data[1::2]\n",
    "  return nama_barang, harga_barang\n",
    "\n",
    "def buat_dict(barang, harga):\n",
    "  return dict(zip(barang, harga))\n",
    "\n",
    "print(data_tuple)\n",
    "\n",
    "nama_list, harga_list = pisah_data(data_tuple)\n",
    "print(nama_list)\n",
    "print(harga_list)\n",
    "\n",
    "hasil = buat_dict(nama_list, harga_list)\n",
    "print(hasil)"
   ]
  },
  {
   "cell_type": "code",
   "execution_count": null,
   "metadata": {},
   "outputs": [],
   "source": [
    "def palindrome(s):\n",
    "  clean_str = ''.join(filter(str.isalnum, s.lower()))\n",
    "  return clean_str == clean_str[::1]\n",
    "\n",
    "string = 'radar'\n",
    "result = palindrome(string)\n",
    "print(result)"
   ]
  },
  {
   "cell_type": "code",
   "execution_count": null,
   "metadata": {},
   "outputs": [],
   "source": [
    "def tambah_angka(angka, total=0):\n",
    "  return total + angka\n",
    "\n",
    "total = tambah_angka(5, 0)\n",
    "print(total)\n",
    "\n",
    "total = tambah_angka(3, total)\n",
    "print(total)"
   ]
  },
  {
   "cell_type": "code",
   "execution_count": null,
   "metadata": {},
   "outputs": [],
   "source": [
    "klasifikasi_angka = lambda x: \"Positif\" if x > 0 else (\"Negatif\" if x < 0 else \"Nol\")\n",
    "pencarian_data = lambda list_angka, find: \"found\" if find in list_angka else \"not found\"\n",
    "\n",
    "angka = 5\n",
    "hasil_klasifikasi = klasifikasi_angka(angka)\n",
    "print(f\"{angka} adalah angka {hasil_klasifikasi}\")\n",
    "\n",
    "list_angka = [1, 2, 3, 4, 5]\n",
    "cari_angka = 5\n",
    "print(f\"Angka {cari_angka} ditemukan di {list_angka, cari_angka}\")"
   ]
  },
  {
   "cell_type": "code",
   "execution_count": null,
   "metadata": {},
   "outputs": [],
   "source": [
    "ganjil = [i for i in range(1, 50, 2)]\n",
    "print(ganjil)"
   ]
  },
  {
   "cell_type": "code",
   "execution_count": null,
   "metadata": {},
   "outputs": [],
   "source": [
    "def generate_ganjil():\n",
    "  for i in range(1, 50, 2):\n",
    "    yield i\n",
    "    \n",
    "hasil_generator = generate_ganjil()\n",
    "\n",
    "for angka in hasil_generator:\n",
    "  print(angka, end=\", \")"
   ]
  },
  {
   "cell_type": "code",
   "execution_count": null,
   "metadata": {},
   "outputs": [],
   "source": [
    "def hof(func):\n",
    "  def wrapper(a, b):\n",
    "    return func(a, b)\n",
    "  return wrapper\n",
    "\n",
    "def sisagold(a, b):\n",
    "  return a - b\n",
    "\n",
    "hofFunc = hof(sisagold)\n",
    "print(hofFunc(19, 3))"
   ]
  },
  {
   "cell_type": "code",
   "execution_count": null,
   "metadata": {},
   "outputs": [],
   "source": [
    "def palindrome(s):\n",
    "  clean_str = ''.join(filter(str.isalnum, s.lower()))\n",
    "  return clean_str == clean_str[::-1]\n",
    "\n",
    "string = \"Ada apa dengan si Rizky Haksono\"\n",
    "kalimat = string.split()\n",
    "\n",
    "is_palindrome = list(filter(palindrome, kalimat))\n",
    "non_palindrome = list(filter(lambda x: not palindrome(x), kalimat))\n",
    "\n",
    "print(\"Data\", kalimat)\n",
    "print(\"Palindrome\", palindrome)\n",
    "print(\"Non palindrome\", non_palindrome)"
   ]
  },
  {
   "cell_type": "code",
   "execution_count": null,
   "metadata": {},
   "outputs": [],
   "source": [
    "def palindrome(s):\n",
    "    clean_str = ''.join(filter(str.isalnum, s.lower()))\n",
    "    return clean_str == clean_str[::-1]\n",
    "\n",
    "string = \"Ada apa dengan si Rizky Haksono\"\n",
    "kata_kalimat = string.split()\n",
    "\n",
    "output_palindrome = list(map(lambda x: f'{x} = Palindrome' if palindrome(x) else f'{x} = Non-Palindrome', kata_kalimat))\n",
    "\n",
    "print(output_palindrome)\n",
    "\n",
    "result = list(map(lambda y: y * 2, filter(lambda x: x % 2 == 1, range (10))))\n",
    "print(result)"
   ]
  },
  {
   "cell_type": "code",
   "execution_count": null,
   "metadata": {},
   "outputs": [],
   "source": [
    "from functools import reduce\n",
    "\n",
    "data_angka = [3, 9, 15, 21, 27, 33, 39, 45]\n",
    "\n",
    "total = reduce(lambda x, y: x + y, data_angka)\n",
    "print(\"Hasil dari elemen \", total)"
   ]
  },
  {
   "cell_type": "code",
   "execution_count": null,
   "metadata": {},
   "outputs": [],
   "source": [
    "def hitung_pangkat(pangkat):\n",
    "  \n",
    "  def pangkat_bilangan(x):\n",
    "    return x ** pangkat\n",
    "  return pangkat_bilangan\n",
    "\n",
    "pangkat_dua = hitung_pangkat(2)\n",
    "pangkat_tiga = hitung_pangkat(3)\n",
    "\n",
    "print(pangkat_dua(5))\n",
    "print(pangkat_tiga(3))"
   ]
  },
  {
   "cell_type": "code",
   "execution_count": null,
   "metadata": {},
   "outputs": [],
   "source": [
    "def ubah_output(funct):\n",
    "  def decorator(*args, **kwargs):\n",
    "    result = func(*args, **kwargs)\n",
    "    if instance(result, tuple):\n",
    "      return \", \".join(f\"{nama} seharga {harga} rupiah\" for nama, harga in zip(*result))\n",
    "    else:\n",
    "      return \"Format data tidak valid\"\n",
    "  return decorator\n",
    "\n",
    "@ubah_output\n",
    "def pisah_data_tuple(tup):\n",
    "  nama_barang = tup[::2]\n",
    "  harga_barang = tup[1::2]\n",
    "  return nama_barang, harga_barang\n",
    "\n",
    "data_tuple = ['Pensil', 1500, 'Buku', 5000, 'Penggaris', 2000]\n",
    "hasil = pisah_data(data_tuple)\n",
    "print(hasil)"
   ]
  },
  {
   "cell_type": "code",
   "execution_count": null,
   "metadata": {},
   "outputs": [],
   "source": [
    "import matplotlib.pyplot as plt\n",
    "\n",
    "data = [\n",
    "    ('Bus', 5, 200),\n",
    "    ('Trem', 8, 150),\n",
    "    ('Kereta', 12, 300),\n",
    "    ('Minibus', 6, 180),\n",
    "    ('Tram', 9, 220)\n",
    "]\n",
    "\n",
    "jenis_kendaraan, penggunaan_energi, biaya_operasioanl = zip(*data)\n",
    "\n",
    "plt.figure(figsize=(15, 5))\n",
    "\n",
    "plt.subplot(1, 3, 1)\n",
    "plt.bar(jenis_kendaraan, penggunaan_energi, color='blue')\n",
    "plt.title('Penggunaan Energi per Km')\n",
    "plt.xlabel('Jenis Kendaraan')\n",
    "plt.ylabel('Penggunaan Energi (unit per Km)')\n",
    "\n",
    "plt.subplot(1, 3, 2)\n",
    "plt.bar(jenis_kendaraan, biaya_operasioanl, color='green')\n",
    "plt.title('Biaya Operasional per Km')\n",
    "plt.xlabel('Jenis Kendaraan')\n",
    "plt.ylabel('Biaya Operasional (unit per Km)')\n",
    "\n",
    "plt.subplot(1, 3, 3)\n",
    "plt.scatter(penggunaan_energi, biaya_operasioanl, color='red')\n",
    "plt.title('Scatter Plot: Penggunaan Energi vs Biaya Operasional')\n",
    "plt.xlabel('Penggunaan Energi (unit per Km)')\n",
    "plt.ylabel('Biaya Operasional (unit per Km)')\n",
    "\n",
    "plt.legend()\n",
    "\n",
    "plt.tight_layout()\n",
    "plt.show()"
   ]
  }
 ],
 "metadata": {
  "language_info": {
   "name": "python"
  }
 },
 "nbformat": 4,
 "nbformat_minor": 2
}
